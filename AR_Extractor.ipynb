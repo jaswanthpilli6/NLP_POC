{
  "nbformat": 4,
  "nbformat_minor": 0,
  "metadata": {
    "colab": {
      "name": "AR_Extractor.ipynb",
      "provenance": []
    },
    "kernelspec": {
      "name": "python3",
      "display_name": "Python 3"
    },
    "accelerator": "GPU"
  },
  "cells": [
    {
      "cell_type": "code",
      "metadata": {
        "id": "zeP7w5TuiFeY",
        "colab_type": "code",
        "colab": {}
      },
      "source": [
        "from nltk.stem import PorterStemmer\n",
        "from nltk.tokenize import word_tokenize\n",
        "from nltk.corpus import stopwords\n",
        "from nltk.stem.wordnet import WordNetLemmatizer\n",
        "from nltk.tokenize import RegexpTokenizer\n"
      ],
      "execution_count": 0,
      "outputs": []
    },
    {
      "cell_type": "code",
      "metadata": {
        "id": "-61fh-VmkXoq",
        "colab_type": "code",
        "outputId": "9b678c85-bcc2-44e2-e05f-79015d4785fb",
        "colab": {
          "base_uri": "https://localhost:8080/",
          "height": 101
        }
      },
      "source": [
        "!pip install PyMuPDF"
      ],
      "execution_count": 0,
      "outputs": [
        {
          "output_type": "stream",
          "text": [
            "Collecting PyMuPDF\n",
            "\u001b[?25l  Downloading https://files.pythonhosted.org/packages/e0/38/faee133a88c86ade097a1b2719335efc77ecdef7cd68b941d030a733b3e5/PyMuPDF-1.16.8.1-cp36-cp36m-manylinux2010_x86_64.whl (5.3MB)\n",
            "\u001b[K     |████████████████████████████████| 5.3MB 2.6MB/s \n",
            "\u001b[?25hInstalling collected packages: PyMuPDF\n",
            "Successfully installed PyMuPDF-1.16.8\n"
          ],
          "name": "stdout"
        }
      ]
    },
    {
      "cell_type": "code",
      "metadata": {
        "id": "l0kHPcIGkxoi",
        "colab_type": "code",
        "colab": {}
      },
      "source": [
        "import fitz"
      ],
      "execution_count": 0,
      "outputs": []
    },
    {
      "cell_type": "code",
      "metadata": {
        "id": "oVQcVVCXzgzC",
        "colab_type": "code",
        "colab": {}
      },
      "source": [
        "def arrayStemmer(textArray):\n",
        "  lematized_wordArray=[]\n",
        "  porter_wordArray=[]\n",
        "  porter = PorterStemmer()\n",
        "  for text in textArray:\n",
        "    text = text.lower()\n",
        "    porter_wordArray.append(porter.stem(text))\n",
        "  return (porter_wordArray)\n",
        "\n",
        "def textAnalyze(text):\n",
        "  text=text.lower()\n",
        "  # tokenized_word=word_tokenize(text)\n",
        "  tokenizer = RegexpTokenizer(r'\\w+')\n",
        "  tokenized_word=tokenizer.tokenize(text)\n",
        "  stop_words=set(stopwords.words(\"english\"))\n",
        "  filtered_sent=[]\n",
        "  for w in tokenized_word:\n",
        "    if w not in stop_words:\n",
        "      filtered_sent.append(w)\n",
        "  porter_wordArray=[]\n",
        "  porter = PorterStemmer()\n",
        "  for text in filtered_sent:\n",
        "    text=text.lower()\n",
        "    porter_wordArray.append(porter.stem(text))\n",
        "  finalWords=[]\n",
        "  for w in porter_wordArray:\n",
        "    try:\n",
        "      width = float(w)\n",
        "    except ValueError:\n",
        "      finalWords.append(w)\n",
        "  return finalWords\n",
        "\n",
        "def scoreGenie(bag_of_words, stemmed_array):\n",
        "  final_score = 0\n",
        "  frequency_score = 0\n",
        "  match_score = 0\n",
        "  match_array = []\n",
        "  for word in stemmed_array:\n",
        "    for w in bag_of_words:\n",
        "      if word == w:\n",
        "        match_score+=1\n",
        "        match_array.append(w)\n",
        "  frequency_score = len(set(match_array))\n",
        "  final_score = frequency_score * match_score\n",
        "  return final_score"
      ],
      "execution_count": 0,
      "outputs": []
    },
    {
      "cell_type": "code",
      "metadata": {
        "id": "Hhly98Dk7sOr",
        "colab_type": "code",
        "outputId": "a3da8361-c5bf-42ed-f61e-acdb9a4eb28d",
        "colab": {
          "base_uri": "https://localhost:8080/",
          "height": 50
        }
      },
      "source": [
        "profit_bag_of_words = ['Profit','Income','Margins','Gross','Margin','profits','Revenues', 'revenue']\n",
        "redflag_bag_of_words = ['disputes', 'difficulty', 'serious', 'adverse', 'unexpected']\n",
        "cashflow_bag_of_words = ['cash flows', 'cash flow', 'free cash flow increase']\n",
        "revenue_bag_of_words = ['New revenue','Expansion','Acquisitions','Acquired','Growth']\n",
        "\n",
        "\n",
        "\n",
        "test_bag_of_words = profit_bag_of_words #Change here for the required bag of words\n",
        "bag_of_words = arrayStemmer(test_bag_of_words)\n",
        "print(test_bag_of_words)\n",
        "\n",
        "bag_of_words = list(set(bag_of_words))\n",
        "print(bag_of_words)"
      ],
      "execution_count": 0,
      "outputs": [
        {
          "output_type": "stream",
          "text": [
            "['Profit', 'Income', 'Margins', 'Gross', 'Margin', 'profits', 'Revenues', 'revenue']\n",
            "['margin', 'gross', 'profit', 'revenu', 'incom']\n"
          ],
          "name": "stdout"
        }
      ]
    },
    {
      "cell_type": "markdown",
      "metadata": {
        "id": "Lvzqsjuo8B89",
        "colab_type": "text"
      },
      "source": [
        "Filter by key phrase to only reserve the key information"
      ]
    },
    {
      "cell_type": "code",
      "metadata": {
        "id": "691qupcNlAls",
        "colab_type": "code",
        "outputId": "2f4e5811-a30d-41d8-d24e-f5de782a71b5",
        "colab": {
          "base_uri": "https://localhost:8080/",
          "height": 54
        }
      },
      "source": [
        "pdf_document = 'DMPL AR2018.pdf'\n",
        "# pdf_document = 'AR_2017.pdf'\n",
        "# key_words = ['profit', 'Profit', 'income', 'Income', 'revenue', 'Revenue']\n",
        "reason_words = ['due to', 'impacted by', 'because', 'as a result', 'was attributed to', 'resulting', 'resulted']\n",
        "\n",
        "doc = fitz.open(pdf_document)\n",
        "\n",
        "matchedPageArray = []\n",
        "tmp_full_text=''\n",
        "\n",
        "for current_page in range(len(doc)):\n",
        "  page = doc.loadPage(current_page)\n",
        "\n",
        "  for word in reason_words:\n",
        "    if page.searchFor(word):\n",
        "      tmp_full_text =  tmp_full_text + '\\n' + page.getText('text').replace('ﬂ ', 'fl').replace('ff ', 'ff').replace('ﬁ ', 'fi')\n",
        "      matchedPageArray.append(current_page)\n",
        "\n",
        "matchedPageArray = list(set(matchedPageArray))\n",
        "\n",
        "print(matchedPageArray)\n",
        "\n",
        "with open(f\"{pdf_document}_{reason_words}.txt\", \"w\") as text_file:\n",
        "    text_file.write(tmp_full_text)"
      ],
      "execution_count": 0,
      "outputs": [
        {
          "output_type": "stream",
          "text": [
            "[130, 132, 7, 8, 9, 10, 11, 140, 143, 144, 145, 146, 149, 150, 151, 154, 155, 156, 157, 31, 162, 166, 41, 169, 44, 46, 47, 48, 175, 176, 51, 178, 181, 54, 55, 56, 185, 195, 68, 71, 199, 202, 203, 205, 210, 214, 215, 216, 92, 221, 225, 230, 106, 107, 108, 109, 110, 235, 236, 239, 126]\n"
          ],
          "name": "stdout"
        }
      ]
    },
    {
      "cell_type": "code",
      "metadata": {
        "id": "e65ytOC1eWCe",
        "colab_type": "code",
        "colab": {}
      },
      "source": [
        "import re\n",
        "\n",
        "alphabets= \"([A-Za-z])\"\n",
        "prefixes = \"(Mr|St|Mrs|Ms|Dr)[.]\"\n",
        "suffixes = \"(Inc|Ltd|Jr|Sr|Co)\"\n",
        "starters = \"(Mr|Mrs|Ms|Dr|He\\s|She\\s|It\\s|They\\s|Their\\s|Our\\s|We\\s|But\\s|However\\s|That\\s|This\\s|Wherever)\"\n",
        "acronyms = \"([A-Z][.][A-Z][.](?:[A-Z][.])?)\"\n",
        "websites = \"[.](com|net|org|io|gov)\"\n",
        "digits = \"([0-9])\"\n",
        "\n",
        "def split_into_sentences(text):\n",
        "    #print (\"Inside split\")\n",
        "    text = \" \" + text + \"  \"\n",
        "    #print (text)\n",
        "    text = text.replace(\"\\n\",\" \")\n",
        "    text = re.sub(prefixes,\"\\\\1<prd>\",text)\n",
        "    text = re.sub(websites,\"<prd>\\\\1\",text)\n",
        "    text = re.sub(digits + \"[.]\" + digits,\"\\\\1<prd>\\\\2\",text)\n",
        "    if \"Ph.D\" in text: text = text.replace(\"Ph.D.\",\"Ph<prd>D<prd>\")\n",
        "    text = re.sub(\"\\s\" + alphabets + \"[.] \",\" \\\\1<prd> \",text)\n",
        "    text = re.sub(acronyms+\" \"+starters,\"\\\\1<stop> \\\\2\",text)\n",
        "    text = re.sub(alphabets + \"[.]\" + alphabets + \"[.]\" + alphabets + \"[.]\",\"\\\\1<prd>\\\\2<prd>\\\\3<prd>\",text)\n",
        "    text = re.sub(alphabets + \"[.]\" + alphabets + \"[.]\",\"\\\\1<prd>\\\\2<prd>\",text)\n",
        "    text = re.sub(\" \"+suffixes+\"[.] \"+starters,\" \\\\1<stop> \\\\2\",text)\n",
        "    text = re.sub(\" \"+suffixes+\"[.]\",\" \\\\1<prd>\",text)\n",
        "    text = re.sub(\" \" + alphabets + \"[.]\",\" \\\\1<prd>\",text)\n",
        "    if \"”\" in text: text = text.replace(\".”\",\"”.\")\n",
        "    if \"\\\"\" in text: text = text.replace(\".\\\"\",\"\\\".\")\n",
        "    if \"!\" in text: text = text.replace(\"!\\\"\",\"\\\"!\")\n",
        "    if \"?\" in text: text = text.replace(\"?\\\"\",\"\\\"?\")\n",
        "    if \"e.g.\" in text: text = text.replace(\"e.g.\",\"e<prd>g<prd>\") \n",
        "    if \"i.e.\" in text: text = text.replace(\"i.e.\",\"i<prd>e<prd>\")\n",
        "    text = text.replace(\".\",\".<stop>\")\n",
        "    text = text.replace(\"?\",\"?<stop>\")\n",
        "    text = text.replace(\"!\",\"!<stop>\")\n",
        "    text = text.replace(\"<prd>\",\".\")\n",
        "    #print (text)\n",
        "    text = text.encode('ascii',errors='ignore').decode()\n",
        "    sentences = text.split(\"<stop>\")\n",
        "    sentences = sentences[:-1]\n",
        "    sentences = [s.strip() for s in sentences]\n",
        "\n",
        "    #remove excessive space within sentences\n",
        "    sentences2 = [' '.join(s.split()) for s in sentences]\n",
        "\n",
        "    return sentences, sentences2"
      ],
      "execution_count": 0,
      "outputs": []
    },
    {
      "cell_type": "code",
      "metadata": {
        "id": "huxb7172ZMTK",
        "colab_type": "code",
        "outputId": "ba3efe2f-93f7-40fd-ff99-830104c23cd5",
        "colab": {
          "base_uri": "https://localhost:8080/",
          "height": 50
        }
      },
      "source": [
        "sentences, sentences2 = split_into_sentences(tmp_full_text)\n",
        "\n",
        "print(len(sentences))\n",
        "print(len(sentences2))\n",
        "\n",
        "with open('sentences.txt', 'w') as f:\n",
        "    for item in sentences:\n",
        "        f.write(\"%s\\n\\n\" % item)\n",
        "\n",
        "with open('sentences_with_proper_spacing.txt', 'w') as f:\n",
        "    for item in sentences2:\n",
        "        f.write(\"%s\\n\\n\" % item)"
      ],
      "execution_count": 0,
      "outputs": [
        {
          "output_type": "stream",
          "text": [
            "1270\n",
            "1270\n"
          ],
          "name": "stdout"
        }
      ]
    },
    {
      "cell_type": "code",
      "metadata": {
        "id": "XM_tHF0Gr_84",
        "colab_type": "code",
        "outputId": "ddd8e74b-2acb-4d30-a0ff-ae4609c85a70",
        "colab": {
          "base_uri": "https://localhost:8080/",
          "height": 34
        }
      },
      "source": [
        "filtered_sentences = []\n",
        "\n",
        "i = 0\n",
        "for sent in sentences2:\n",
        "  for key in reason_words:\n",
        "    if sent.lower().find(key) > -1:\n",
        "      # if i > 0:\n",
        "      #   filtered_sentences.append(sentences2[i-1])\n",
        "      filtered_sentences.append(sent)\n",
        "      # if i+1 < len(sentences2):\n",
        "      #   filtered_sentences.append(sentences2[i+1])\n",
        "  i = i + 1\n",
        "\n",
        "filtered_sentences = list(set(filtered_sentences))\n",
        "\n",
        "print(len(filtered_sentences))\n",
        "\n",
        "with open('sentences_with_focus', 'w') as f:\n",
        "    for item in filtered_sentences:\n",
        "        f.write(\"%s\\n\\n\" % item)"
      ],
      "execution_count": 0,
      "outputs": [
        {
          "output_type": "stream",
          "text": [
            "101\n"
          ],
          "name": "stdout"
        }
      ]
    },
    {
      "cell_type": "markdown",
      "metadata": {
        "id": "MAbaM1EkG8xp",
        "colab_type": "text"
      },
      "source": [
        "filter with key financial figures"
      ]
    },
    {
      "cell_type": "code",
      "metadata": {
        "id": "7gM4HSCQG7Op",
        "colab_type": "code",
        "colab": {}
      },
      "source": [
        "key_financial_figures = ['net profit', 'EBIDTA', 'gross profit', '']"
      ],
      "execution_count": 0,
      "outputs": []
    },
    {
      "cell_type": "code",
      "metadata": {
        "id": "XBps_Kz_XzqR",
        "colab_type": "code",
        "outputId": "acf83c68-3633-4c0c-8a48-42dfb4f5a99e",
        "colab": {
          "base_uri": "https://localhost:8080/",
          "height": 252
        }
      },
      "source": [
        "! pip install news-corpus-builder"
      ],
      "execution_count": 0,
      "outputs": [
        {
          "output_type": "stream",
          "text": [
            "Collecting news-corpus-builder\n",
            "  Using cached https://files.pythonhosted.org/packages/5d/e1/43b98c242ce342d30fd574751513dbb6f75137503893e30813abec278ae5/news-corpus-builder-0.1.5.zip\n",
            "Collecting goose-extractor>=1.0.25\n",
            "  Using cached https://files.pythonhosted.org/packages/ab/f3/2e89688e4e1d8786e542ea460431f24f1392d885e60303dc20d476a96424/goose-extractor-1.0.25.tar.gz\n",
            "Collecting feedparser>=5.2.1\n",
            "  Using cached https://files.pythonhosted.org/packages/91/d8/7d37fec71ff7c9dbcdd80d2b48bcdd86d6af502156fc93846fb0102cb2c4/feedparser-5.2.1.tar.bz2\n",
            "Requirement already satisfied: Pillow in /usr/local/lib/python3.6/dist-packages (from goose-extractor>=1.0.25->news-corpus-builder) (4.3.0)\n",
            "Requirement already satisfied: lxml in /usr/local/lib/python3.6/dist-packages (from goose-extractor>=1.0.25->news-corpus-builder) (4.2.6)\n",
            "Collecting cssselect\n",
            "  Using cached https://files.pythonhosted.org/packages/3b/d4/3b5c17f00cce85b9a1e6f91096e1cc8e8ede2e1be8e96b87ce1ed09e92c5/cssselect-1.1.0-py2.py3-none-any.whl\n",
            "Requirement already satisfied: jieba in /usr/local/lib/python3.6/dist-packages (from goose-extractor>=1.0.25->news-corpus-builder) (0.39)\n",
            "Collecting beautifulsoup\n",
            "  Using cached https://files.pythonhosted.org/packages/40/f2/6c9f2f3e696ee6a1fb0e4d7850617e224ed2b0b1e872110abffeca2a09d4/BeautifulSoup-3.2.2.tar.gz\n",
            "\u001b[31mERROR: Command errored out with exit status 1: python setup.py egg_info Check the logs for full command output.\u001b[0m\n"
          ],
          "name": "stdout"
        }
      ]
    },
    {
      "cell_type": "code",
      "metadata": {
        "id": "2B9Q1OmJWWi7",
        "colab_type": "code",
        "outputId": "31fb3e8c-6862-4eee-c424-113a9a30030f",
        "colab": {
          "base_uri": "https://localhost:8080/",
          "height": 363
        }
      },
      "source": [
        "from news_corpus_builder import NewsCorpusGenerator\n",
        "\n",
        "# Location to save generated corpus\n",
        "import os\n",
        "corpus_dir = os.getcwd()\n",
        "\n",
        "# Save results to sqlite or  files per article \n",
        "ex = NewsCorpusGenerator(corpus_dir,'sqlite')\n",
        "\n",
        "# Retrieve 50 links related to the search term dogs and assign a category of   Pet to the retrieved links\n",
        "links = ex.google_news_search('dogs','Pet',50)\n",
        "\n",
        "# Generate and save corpus\n",
        "ex.generate_corpus(links)"
      ],
      "execution_count": 0,
      "outputs": [
        {
          "output_type": "error",
          "ename": "ModuleNotFoundError",
          "evalue": "ignored",
          "traceback": [
            "\u001b[0;31m---------------------------------------------------------------------------\u001b[0m",
            "\u001b[0;31mModuleNotFoundError\u001b[0m                       Traceback (most recent call last)",
            "\u001b[0;32m<ipython-input-1-c640d24cd8e3>\u001b[0m in \u001b[0;36m<module>\u001b[0;34m()\u001b[0m\n\u001b[0;32m----> 1\u001b[0;31m \u001b[0;32mfrom\u001b[0m \u001b[0mnews_corpus_builder\u001b[0m \u001b[0;32mimport\u001b[0m \u001b[0mNewsCorpusGenerator\u001b[0m\u001b[0;34m\u001b[0m\u001b[0;34m\u001b[0m\u001b[0m\n\u001b[0m\u001b[1;32m      2\u001b[0m \u001b[0;34m\u001b[0m\u001b[0m\n\u001b[1;32m      3\u001b[0m \u001b[0;31m# Location to save generated corpus\u001b[0m\u001b[0;34m\u001b[0m\u001b[0;34m\u001b[0m\u001b[0;34m\u001b[0m\u001b[0m\n\u001b[1;32m      4\u001b[0m \u001b[0;32mimport\u001b[0m \u001b[0mos\u001b[0m\u001b[0;34m\u001b[0m\u001b[0;34m\u001b[0m\u001b[0m\n\u001b[1;32m      5\u001b[0m \u001b[0mcorpus_dir\u001b[0m \u001b[0;34m=\u001b[0m \u001b[0mos\u001b[0m\u001b[0;34m.\u001b[0m\u001b[0mgetcwd\u001b[0m\u001b[0;34m(\u001b[0m\u001b[0;34m)\u001b[0m\u001b[0;34m\u001b[0m\u001b[0;34m\u001b[0m\u001b[0m\n",
            "\u001b[0;31mModuleNotFoundError\u001b[0m: No module named 'news_corpus_builder'",
            "",
            "\u001b[0;31m---------------------------------------------------------------------------\u001b[0;32m\nNOTE: If your import is failing due to a missing package, you can\nmanually install dependencies using either !pip or !apt.\n\nTo view examples of installing some common dependencies, click the\n\"Open Examples\" button below.\n\u001b[0;31m---------------------------------------------------------------------------\u001b[0m\n"
          ]
        }
      ]
    },
    {
      "cell_type": "markdown",
      "metadata": {
        "id": "KUGfEsFElkA-",
        "colab_type": "text"
      },
      "source": [
        "Start XLNet exploration\n",
        "\n",
        "https://github.com/zihangdai/xlnet/blob/master/notebooks/colab_imdb_gpu.ipynb\n",
        "\n",
        "https://github.com/zihangdai/xlnet\n",
        "\n"
      ]
    },
    {
      "cell_type": "code",
      "metadata": {
        "id": "gqpVVt2MljmN",
        "colab_type": "code",
        "outputId": "15937d9c-b59d-4868-b198-ae0fd3a1fe2c",
        "colab": {
          "base_uri": "https://localhost:8080/",
          "height": 101
        }
      },
      "source": [
        "! pip install sentencepiece"
      ],
      "execution_count": 0,
      "outputs": [
        {
          "output_type": "stream",
          "text": [
            "Collecting sentencepiece\n",
            "\u001b[?25l  Downloading https://files.pythonhosted.org/packages/14/3d/efb655a670b98f62ec32d66954e1109f403db4d937c50d779a75b9763a29/sentencepiece-0.1.83-cp36-cp36m-manylinux1_x86_64.whl (1.0MB)\n",
            "\r\u001b[K     |▎                               | 10kB 12.2MB/s eta 0:00:01\r\u001b[K     |▋                               | 20kB 6.9MB/s eta 0:00:01\r\u001b[K     |█                               | 30kB 9.3MB/s eta 0:00:01\r\u001b[K     |█▎                              | 40kB 5.8MB/s eta 0:00:01\r\u001b[K     |█▋                              | 51kB 6.7MB/s eta 0:00:01\r\u001b[K     |██                              | 61kB 7.8MB/s eta 0:00:01\r\u001b[K     |██▏                             | 71kB 8.9MB/s eta 0:00:01\r\u001b[K     |██▌                             | 81kB 9.8MB/s eta 0:00:01\r\u001b[K     |██▉                             | 92kB 10.7MB/s eta 0:00:01\r\u001b[K     |███▏                            | 102kB 9.2MB/s eta 0:00:01\r\u001b[K     |███▌                            | 112kB 9.2MB/s eta 0:00:01\r\u001b[K     |███▉                            | 122kB 9.2MB/s eta 0:00:01\r\u001b[K     |████                            | 133kB 9.2MB/s eta 0:00:01\r\u001b[K     |████▍                           | 143kB 9.2MB/s eta 0:00:01\r\u001b[K     |████▊                           | 153kB 9.2MB/s eta 0:00:01\r\u001b[K     |█████                           | 163kB 9.2MB/s eta 0:00:01\r\u001b[K     |█████▍                          | 174kB 9.2MB/s eta 0:00:01\r\u001b[K     |█████▊                          | 184kB 9.2MB/s eta 0:00:01\r\u001b[K     |██████                          | 194kB 9.2MB/s eta 0:00:01\r\u001b[K     |██████▎                         | 204kB 9.2MB/s eta 0:00:01\r\u001b[K     |██████▋                         | 215kB 9.2MB/s eta 0:00:01\r\u001b[K     |███████                         | 225kB 9.2MB/s eta 0:00:01\r\u001b[K     |███████▎                        | 235kB 9.2MB/s eta 0:00:01\r\u001b[K     |███████▋                        | 245kB 9.2MB/s eta 0:00:01\r\u001b[K     |███████▉                        | 256kB 9.2MB/s eta 0:00:01\r\u001b[K     |████████▏                       | 266kB 9.2MB/s eta 0:00:01\r\u001b[K     |████████▌                       | 276kB 9.2MB/s eta 0:00:01\r\u001b[K     |████████▉                       | 286kB 9.2MB/s eta 0:00:01\r\u001b[K     |█████████▏                      | 296kB 9.2MB/s eta 0:00:01\r\u001b[K     |█████████▌                      | 307kB 9.2MB/s eta 0:00:01\r\u001b[K     |█████████▊                      | 317kB 9.2MB/s eta 0:00:01\r\u001b[K     |██████████                      | 327kB 9.2MB/s eta 0:00:01\r\u001b[K     |██████████▍                     | 337kB 9.2MB/s eta 0:00:01\r\u001b[K     |██████████▊                     | 348kB 9.2MB/s eta 0:00:01\r\u001b[K     |███████████                     | 358kB 9.2MB/s eta 0:00:01\r\u001b[K     |███████████▍                    | 368kB 9.2MB/s eta 0:00:01\r\u001b[K     |███████████▋                    | 378kB 9.2MB/s eta 0:00:01\r\u001b[K     |████████████                    | 389kB 9.2MB/s eta 0:00:01\r\u001b[K     |████████████▎                   | 399kB 9.2MB/s eta 0:00:01\r\u001b[K     |████████████▋                   | 409kB 9.2MB/s eta 0:00:01\r\u001b[K     |█████████████                   | 419kB 9.2MB/s eta 0:00:01\r\u001b[K     |█████████████▎                  | 430kB 9.2MB/s eta 0:00:01\r\u001b[K     |█████████████▌                  | 440kB 9.2MB/s eta 0:00:01\r\u001b[K     |█████████████▉                  | 450kB 9.2MB/s eta 0:00:01\r\u001b[K     |██████████████▏                 | 460kB 9.2MB/s eta 0:00:01\r\u001b[K     |██████████████▌                 | 471kB 9.2MB/s eta 0:00:01\r\u001b[K     |██████████████▉                 | 481kB 9.2MB/s eta 0:00:01\r\u001b[K     |███████████████▏                | 491kB 9.2MB/s eta 0:00:01\r\u001b[K     |███████████████▍                | 501kB 9.2MB/s eta 0:00:01\r\u001b[K     |███████████████▊                | 512kB 9.2MB/s eta 0:00:01\r\u001b[K     |████████████████                | 522kB 9.2MB/s eta 0:00:01\r\u001b[K     |████████████████▍               | 532kB 9.2MB/s eta 0:00:01\r\u001b[K     |████████████████▊               | 542kB 9.2MB/s eta 0:00:01\r\u001b[K     |█████████████████               | 552kB 9.2MB/s eta 0:00:01\r\u001b[K     |█████████████████▎              | 563kB 9.2MB/s eta 0:00:01\r\u001b[K     |█████████████████▋              | 573kB 9.2MB/s eta 0:00:01\r\u001b[K     |██████████████████              | 583kB 9.2MB/s eta 0:00:01\r\u001b[K     |██████████████████▎             | 593kB 9.2MB/s eta 0:00:01\r\u001b[K     |██████████████████▋             | 604kB 9.2MB/s eta 0:00:01\r\u001b[K     |███████████████████             | 614kB 9.2MB/s eta 0:00:01\r\u001b[K     |███████████████████▏            | 624kB 9.2MB/s eta 0:00:01\r\u001b[K     |███████████████████▌            | 634kB 9.2MB/s eta 0:00:01\r\u001b[K     |███████████████████▉            | 645kB 9.2MB/s eta 0:00:01\r\u001b[K     |████████████████████▏           | 655kB 9.2MB/s eta 0:00:01\r\u001b[K     |████████████████████▌           | 665kB 9.2MB/s eta 0:00:01\r\u001b[K     |████████████████████▉           | 675kB 9.2MB/s eta 0:00:01\r\u001b[K     |█████████████████████▏          | 686kB 9.2MB/s eta 0:00:01\r\u001b[K     |█████████████████████▍          | 696kB 9.2MB/s eta 0:00:01\r\u001b[K     |█████████████████████▊          | 706kB 9.2MB/s eta 0:00:01\r\u001b[K     |██████████████████████          | 716kB 9.2MB/s eta 0:00:01\r\u001b[K     |██████████████████████▍         | 727kB 9.2MB/s eta 0:00:01\r\u001b[K     |██████████████████████▊         | 737kB 9.2MB/s eta 0:00:01\r\u001b[K     |███████████████████████         | 747kB 9.2MB/s eta 0:00:01\r\u001b[K     |███████████████████████▎        | 757kB 9.2MB/s eta 0:00:01\r\u001b[K     |███████████████████████▋        | 768kB 9.2MB/s eta 0:00:01\r\u001b[K     |████████████████████████        | 778kB 9.2MB/s eta 0:00:01\r\u001b[K     |████████████████████████▎       | 788kB 9.2MB/s eta 0:00:01\r\u001b[K     |████████████████████████▋       | 798kB 9.2MB/s eta 0:00:01\r\u001b[K     |█████████████████████████       | 808kB 9.2MB/s eta 0:00:01\r\u001b[K     |█████████████████████████▏      | 819kB 9.2MB/s eta 0:00:01\r\u001b[K     |█████████████████████████▌      | 829kB 9.2MB/s eta 0:00:01\r\u001b[K     |█████████████████████████▉      | 839kB 9.2MB/s eta 0:00:01\r\u001b[K     |██████████████████████████▏     | 849kB 9.2MB/s eta 0:00:01\r\u001b[K     |██████████████████████████▌     | 860kB 9.2MB/s eta 0:00:01\r\u001b[K     |██████████████████████████▉     | 870kB 9.2MB/s eta 0:00:01\r\u001b[K     |███████████████████████████     | 880kB 9.2MB/s eta 0:00:01\r\u001b[K     |███████████████████████████▍    | 890kB 9.2MB/s eta 0:00:01\r\u001b[K     |███████████████████████████▊    | 901kB 9.2MB/s eta 0:00:01\r\u001b[K     |████████████████████████████    | 911kB 9.2MB/s eta 0:00:01\r\u001b[K     |████████████████████████████▍   | 921kB 9.2MB/s eta 0:00:01\r\u001b[K     |████████████████████████████▊   | 931kB 9.2MB/s eta 0:00:01\r\u001b[K     |█████████████████████████████   | 942kB 9.2MB/s eta 0:00:01\r\u001b[K     |█████████████████████████████▎  | 952kB 9.2MB/s eta 0:00:01\r\u001b[K     |█████████████████████████████▋  | 962kB 9.2MB/s eta 0:00:01\r\u001b[K     |██████████████████████████████  | 972kB 9.2MB/s eta 0:00:01\r\u001b[K     |██████████████████████████████▎ | 983kB 9.2MB/s eta 0:00:01\r\u001b[K     |██████████████████████████████▋ | 993kB 9.2MB/s eta 0:00:01\r\u001b[K     |██████████████████████████████▉ | 1.0MB 9.2MB/s eta 0:00:01\r\u001b[K     |███████████████████████████████▏| 1.0MB 9.2MB/s eta 0:00:01\r\u001b[K     |███████████████████████████████▌| 1.0MB 9.2MB/s eta 0:00:01\r\u001b[K     |███████████████████████████████▉| 1.0MB 9.2MB/s eta 0:00:01\r\u001b[K     |████████████████████████████████| 1.0MB 9.2MB/s \n",
            "\u001b[?25hInstalling collected packages: sentencepiece\n",
            "Successfully installed sentencepiece-0.1.83\n"
          ],
          "name": "stdout"
        }
      ]
    },
    {
      "cell_type": "code",
      "metadata": {
        "id": "tigyDADKwk8W",
        "colab_type": "code",
        "outputId": "aa34bf97-a40c-4da8-b1b0-efb2a0a1a993",
        "colab": {
          "base_uri": "https://localhost:8080/",
          "height": 319
        }
      },
      "source": [
        "! wget https://storage.googleapis.com/xlnet/released_models/cased_L-24_H-1024_A-16.zip\n",
        "! unzip cased_L-24_H-1024_A-16.zip"
      ],
      "execution_count": 0,
      "outputs": [
        {
          "output_type": "stream",
          "text": [
            "--2019-11-21 16:18:54--  https://storage.googleapis.com/xlnet/released_models/cased_L-24_H-1024_A-16.zip\n",
            "Resolving storage.googleapis.com (storage.googleapis.com)... 173.194.79.128, 2a00:1450:4013:c00::80\n",
            "Connecting to storage.googleapis.com (storage.googleapis.com)|173.194.79.128|:443... connected.\n",
            "HTTP request sent, awaiting response... 200 OK\n",
            "Length: 1338042341 (1.2G) [application/zip]\n",
            "Saving to: ‘cased_L-24_H-1024_A-16.zip’\n",
            "\n",
            "cased_L-24_H-1024_A 100%[===================>]   1.25G  53.0MB/s    in 22s     \n",
            "\n",
            "2019-11-21 16:19:17 (57.6 MB/s) - ‘cased_L-24_H-1024_A-16.zip’ saved [1338042341/1338042341]\n",
            "\n",
            "Archive:  cased_L-24_H-1024_A-16.zip\n",
            "   creating: xlnet_cased_L-24_H-1024_A-16/\n",
            "  inflating: xlnet_cased_L-24_H-1024_A-16/xlnet_model.ckpt.index  \n",
            "  inflating: xlnet_cased_L-24_H-1024_A-16/xlnet_model.ckpt.data-00000-of-00001  \n",
            "  inflating: xlnet_cased_L-24_H-1024_A-16/spiece.model  \n",
            "  inflating: xlnet_cased_L-24_H-1024_A-16/xlnet_model.ckpt.meta  \n",
            "  inflating: xlnet_cased_L-24_H-1024_A-16/xlnet_config.json  \n"
          ],
          "name": "stdout"
        }
      ]
    }
  ]
}