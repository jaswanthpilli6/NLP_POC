{
  "nbformat": 4,
  "nbformat_minor": 0,
  "metadata": {
    "colab": {
      "name": "pdf_reader.ipynb",
      "provenance": []
    },
    "kernelspec": {
      "name": "python3",
      "display_name": "Python 3"
    }
  },
  "cells": [
    {
      "cell_type": "code",
      "metadata": {
        "id": "VQsvrAswjNBv",
        "colab_type": "code",
        "outputId": "8b9f7e83-abd0-430f-b794-7b98a17e9fb3",
        "colab": {
          "base_uri": "https://localhost:8080/",
          "height": 1000
        }
      },
      "source": [
        "!pip install vaderSentiment\n",
        "!pip install textract"
      ],
      "execution_count": 2,
      "outputs": [
        {
          "output_type": "stream",
          "text": [
            "Collecting vaderSentiment\n",
            "\u001b[?25l  Downloading https://files.pythonhosted.org/packages/86/9e/c53e1fc61aac5ee490a6ac5e21b1ac04e55a7c2aba647bb8411c9aadf24e/vaderSentiment-3.2.1-py2.py3-none-any.whl (125kB)\n",
            "\r\u001b[K     |██▋                             | 10kB 16.8MB/s eta 0:00:01\r\u001b[K     |█████▏                          | 20kB 7.1MB/s eta 0:00:01\r\u001b[K     |███████▉                        | 30kB 9.9MB/s eta 0:00:01\r\u001b[K     |██████████▍                     | 40kB 6.2MB/s eta 0:00:01\r\u001b[K     |█████████████                   | 51kB 7.6MB/s eta 0:00:01\r\u001b[K     |███████████████▋                | 61kB 8.9MB/s eta 0:00:01\r\u001b[K     |██████████████████▎             | 71kB 10.2MB/s eta 0:00:01\r\u001b[K     |████████████████████▉           | 81kB 11.4MB/s eta 0:00:01\r\u001b[K     |███████████████████████▍        | 92kB 12.6MB/s eta 0:00:01\r\u001b[K     |██████████████████████████      | 102kB 9.9MB/s eta 0:00:01\r\u001b[K     |████████████████████████████▋   | 112kB 9.9MB/s eta 0:00:01\r\u001b[K     |███████████████████████████████▎| 122kB 9.9MB/s eta 0:00:01\r\u001b[K     |████████████████████████████████| 133kB 9.9MB/s \n",
            "\u001b[?25hInstalling collected packages: vaderSentiment\n",
            "Successfully installed vaderSentiment-3.2.1\n",
            "Collecting textract\n",
            "  Downloading https://files.pythonhosted.org/packages/32/31/ef9451e6e48a1a57e337c5f20d4ef58c1a13d91560d2574c738b1320bb8d/textract-1.6.3-py3-none-any.whl\n",
            "Collecting SpeechRecognition==3.8.1\n",
            "\u001b[?25l  Downloading https://files.pythonhosted.org/packages/26/e1/7f5678cd94ec1234269d23756dbdaa4c8cfaed973412f88ae8adf7893a50/SpeechRecognition-3.8.1-py2.py3-none-any.whl (32.8MB)\n",
            "\u001b[K     |████████████████████████████████| 32.8MB 59kB/s \n",
            "\u001b[?25hCollecting beautifulsoup4==4.8.0\n",
            "\u001b[?25l  Downloading https://files.pythonhosted.org/packages/1a/b7/34eec2fe5a49718944e215fde81288eec1fa04638aa3fb57c1c6cd0f98c3/beautifulsoup4-4.8.0-py3-none-any.whl (97kB)\n",
            "\u001b[K     |████████████████████████████████| 102kB 7.9MB/s \n",
            "\u001b[?25hCollecting pdfminer.six==20181108\n",
            "\u001b[?25l  Downloading https://files.pythonhosted.org/packages/8a/fd/6e8746e6965d1a7ea8e97253e3d79e625da5547e8f376f88de5d024bacb9/pdfminer.six-20181108-py2.py3-none-any.whl (5.6MB)\n",
            "\u001b[K     |████████████████████████████████| 5.6MB 35.8MB/s \n",
            "\u001b[?25hCollecting extract-msg==0.23.1\n",
            "\u001b[?25l  Downloading https://files.pythonhosted.org/packages/a1/90/84485a914ed90adb5e87df17e626be04162fbba146dfecf34643659a4633/extract_msg-0.23.1-py2.py3-none-any.whl (45kB)\n",
            "\u001b[K     |████████████████████████████████| 51kB 6.2MB/s \n",
            "\u001b[?25hRequirement already satisfied: six==1.12.0 in /usr/local/lib/python3.6/dist-packages (from textract) (1.12.0)\n",
            "Collecting xlrd==1.2.0\n",
            "\u001b[?25l  Downloading https://files.pythonhosted.org/packages/b0/16/63576a1a001752e34bf8ea62e367997530dc553b689356b9879339cf45a4/xlrd-1.2.0-py2.py3-none-any.whl (103kB)\n",
            "\u001b[K     |████████████████████████████████| 112kB 64.0MB/s \n",
            "\u001b[?25hCollecting docx2txt==0.8\n",
            "  Downloading https://files.pythonhosted.org/packages/7d/7d/60ee3f2b16d9bfdfa72e8599470a2c1a5b759cb113c6fe1006be28359327/docx2txt-0.8.tar.gz\n",
            "Collecting argcomplete==1.10.0\n",
            "  Downloading https://files.pythonhosted.org/packages/4d/82/f44c9661e479207348a979b1f6f063625d11dc4ca6256af053719bbb0124/argcomplete-1.10.0-py2.py3-none-any.whl\n",
            "Requirement already satisfied: chardet==3.0.4 in /usr/local/lib/python3.6/dist-packages (from textract) (3.0.4)\n",
            "Collecting python-pptx==0.6.18\n",
            "\u001b[?25l  Downloading https://files.pythonhosted.org/packages/bf/86/eb979f7b0333ec769041aae36df8b9f1bd8bea5bbad44620663890dce561/python-pptx-0.6.18.tar.gz (8.9MB)\n",
            "\u001b[K     |████████████████████████████████| 8.9MB 42.4MB/s \n",
            "\u001b[?25hCollecting EbookLib==0.17.1\n",
            "\u001b[?25l  Downloading https://files.pythonhosted.org/packages/00/38/7d6ab2e569a9165249619d73b7bc6be0e713a899a3bc2513814b6598a84c/EbookLib-0.17.1.tar.gz (111kB)\n",
            "\u001b[K     |████████████████████████████████| 112kB 51.4MB/s \n",
            "\u001b[?25hCollecting soupsieve>=1.2\n",
            "  Downloading https://files.pythonhosted.org/packages/81/94/03c0f04471fc245d08d0a99f7946ac228ca98da4fa75796c507f61e688c2/soupsieve-1.9.5-py2.py3-none-any.whl\n",
            "Requirement already satisfied: sortedcontainers in /usr/local/lib/python3.6/dist-packages (from pdfminer.six==20181108->textract) (2.1.0)\n",
            "Collecting pycryptodome\n",
            "\u001b[?25l  Downloading https://files.pythonhosted.org/packages/93/79/30fb604bf82abbab621ecdbbca932d294e1d4cf95336bb3fc2b5871d297a/pycryptodome-3.9.4-cp36-cp36m-manylinux1_x86_64.whl (9.7MB)\n",
            "\u001b[K     |████████████████████████████████| 9.7MB 45.5MB/s \n",
            "\u001b[?25hCollecting imapclient==2.1.0\n",
            "\u001b[?25l  Downloading https://files.pythonhosted.org/packages/dc/39/e1c2c2c6e2356ab6ea81fcfc0a74b044b311d6a91a45300811d9a6077ef7/IMAPClient-2.1.0-py2.py3-none-any.whl (73kB)\n",
            "\u001b[K     |████████████████████████████████| 81kB 8.7MB/s \n",
            "\u001b[?25hRequirement already satisfied: olefile==0.46 in /usr/local/lib/python3.6/dist-packages (from extract-msg==0.23.1->textract) (0.46)\n",
            "Requirement already satisfied: tzlocal==1.5.1 in /usr/local/lib/python3.6/dist-packages (from extract-msg==0.23.1->textract) (1.5.1)\n",
            "Requirement already satisfied: lxml>=3.1.0 in /usr/local/lib/python3.6/dist-packages (from python-pptx==0.6.18->textract) (4.2.6)\n",
            "Requirement already satisfied: Pillow>=3.3.2 in /usr/local/lib/python3.6/dist-packages (from python-pptx==0.6.18->textract) (4.3.0)\n",
            "Collecting XlsxWriter>=0.5.7\n",
            "\u001b[?25l  Downloading https://files.pythonhosted.org/packages/f2/16/da654cfbc0b05f2ad253c0f244b0c2a76c403bb774717b39c92653acb290/XlsxWriter-1.2.6-py2.py3-none-any.whl (141kB)\n",
            "\u001b[K     |████████████████████████████████| 143kB 54.0MB/s \n",
            "\u001b[?25hRequirement already satisfied: pytz in /usr/local/lib/python3.6/dist-packages (from tzlocal==1.5.1->extract-msg==0.23.1->textract) (2018.9)\n",
            "Building wheels for collected packages: docx2txt, python-pptx, EbookLib\n",
            "  Building wheel for docx2txt (setup.py) ... \u001b[?25l\u001b[?25hdone\n",
            "  Created wheel for docx2txt: filename=docx2txt-0.8-cp36-none-any.whl size=3965 sha256=a006dd192b39d9307f9c2737c3ad7a444d425212b548ce59db7adf9fc15e2007\n",
            "  Stored in directory: /root/.cache/pip/wheels/b2/1f/26/a051209bbb77fc6bcfae2bb7e01fa0ff941b82292ab084d596\n",
            "  Building wheel for python-pptx (setup.py) ... \u001b[?25l\u001b[?25hdone\n",
            "  Created wheel for python-pptx: filename=python_pptx-0.6.18-cp36-none-any.whl size=275707 sha256=7701a42101a44d2221c083957dfdb2013f604d8bb5383cc6ddbc1a002415a78a\n",
            "  Stored in directory: /root/.cache/pip/wheels/1f/1f/2c/29acca422b420a0b5210bd2cd7e9669804520d602d2462f20b\n",
            "  Building wheel for EbookLib (setup.py) ... \u001b[?25l\u001b[?25hdone\n",
            "  Created wheel for EbookLib: filename=EbookLib-0.17.1-cp36-none-any.whl size=38164 sha256=680db315028051f1908b5c9a31c2ab401fbdb82becf43a1190a4923cf351e464\n",
            "  Stored in directory: /root/.cache/pip/wheels/84/11/01/951369cbbf8f96878786a1f4da68bd7ac19a5d945b38e03d54\n",
            "Successfully built docx2txt python-pptx EbookLib\n",
            "Installing collected packages: SpeechRecognition, soupsieve, beautifulsoup4, pycryptodome, pdfminer.six, imapclient, extract-msg, xlrd, docx2txt, argcomplete, XlsxWriter, python-pptx, EbookLib, textract\n",
            "  Found existing installation: beautifulsoup4 4.6.3\n",
            "    Uninstalling beautifulsoup4-4.6.3:\n",
            "      Successfully uninstalled beautifulsoup4-4.6.3\n",
            "  Found existing installation: xlrd 1.1.0\n",
            "    Uninstalling xlrd-1.1.0:\n",
            "      Successfully uninstalled xlrd-1.1.0\n",
            "Successfully installed EbookLib-0.17.1 SpeechRecognition-3.8.1 XlsxWriter-1.2.6 argcomplete-1.10.0 beautifulsoup4-4.8.0 docx2txt-0.8 extract-msg-0.23.1 imapclient-2.1.0 pdfminer.six-20181108 pycryptodome-3.9.4 python-pptx-0.6.18 soupsieve-1.9.5 textract-1.6.3 xlrd-1.2.0\n"
          ],
          "name": "stdout"
        }
      ]
    },
    {
      "cell_type": "code",
      "metadata": {
        "id": "zeP7w5TuiFeY",
        "colab_type": "code",
        "colab": {}
      },
      "source": [
        "from nltk.stem import PorterStemmer\n",
        "from nltk.tokenize import word_tokenize\n",
        "from nltk.corpus import stopwords\n",
        "from nltk.stem.wordnet import WordNetLemmatizer\n",
        "from nltk.tokenize import RegexpTokenizer\n",
        "from vaderSentiment.vaderSentiment import SentimentIntensityAnalyzer"
      ],
      "execution_count": 0,
      "outputs": []
    },
    {
      "cell_type": "code",
      "metadata": {
        "id": "Ptx5BuFeimzy",
        "colab_type": "code",
        "colab": {}
      },
      "source": [
        "import textract\n",
        "import re\n"
      ],
      "execution_count": 0,
      "outputs": []
    },
    {
      "cell_type": "code",
      "metadata": {
        "id": "-61fh-VmkXoq",
        "colab_type": "code",
        "outputId": "4167a077-3594-4732-dc50-7f4d6cb287c7",
        "colab": {
          "base_uri": "https://localhost:8080/",
          "height": 101
        }
      },
      "source": [
        "!pip install PyMuPDF"
      ],
      "execution_count": 5,
      "outputs": [
        {
          "output_type": "stream",
          "text": [
            "Collecting PyMuPDF\n",
            "\u001b[?25l  Downloading https://files.pythonhosted.org/packages/e0/38/faee133a88c86ade097a1b2719335efc77ecdef7cd68b941d030a733b3e5/PyMuPDF-1.16.8.1-cp36-cp36m-manylinux2010_x86_64.whl (5.3MB)\n",
            "\u001b[K     |████████████████████████████████| 5.3MB 6.3MB/s \n",
            "\u001b[?25hInstalling collected packages: PyMuPDF\n",
            "Successfully installed PyMuPDF-1.16.8\n"
          ],
          "name": "stdout"
        }
      ]
    },
    {
      "cell_type": "code",
      "metadata": {
        "id": "l0kHPcIGkxoi",
        "colab_type": "code",
        "colab": {}
      },
      "source": [
        "import fitz"
      ],
      "execution_count": 0,
      "outputs": []
    },
    {
      "cell_type": "code",
      "metadata": {
        "id": "691qupcNlAls",
        "colab_type": "code",
        "colab": {
          "base_uri": "https://localhost:8080/",
          "height": 34
        },
        "outputId": "4ff10dc5-3c67-48b6-d526-8c84f693faed"
      },
      "source": [
        "# pdf_document = 'DMPL AR2018.pdf'\n",
        "pdf_document = 'AR_2017.pdf'\n",
        "key_words = ['profit', 'Profit', 'income', 'Income', 'revenue', 'Revenue']\n",
        "\n",
        "\n",
        "doc = fitz.open(pdf_document)\n",
        "\n",
        "matchedPageArray = []\n",
        "tmp_full_text=''\n",
        "\n",
        "for current_page in range(len(doc)):\n",
        "  page = doc.loadPage(current_page)\n",
        "\n",
        "  for word in key_words:\n",
        "    if page.searchFor(word):\n",
        "      tmp_full_text =  tmp_full_text + '\\n' + page.getText('text').replace('ﬂ ', 'fl').replace('ff ', 'ff').replace('ﬁ ', 'fi')\n",
        "      matchedPageArray.append(current_page)\n",
        "\n",
        "matchedPageArray = list(set(matchedPageArray))\n",
        "\n",
        "print(matchedPageArray)\n",
        "\n",
        "with open(f\"full_text_key_info{pdf_document}.txt\", \"w\") as text_file:\n",
        "    text_file.write(tmp_full_text)"
      ],
      "execution_count": 9,
      "outputs": [
        {
          "output_type": "stream",
          "text": [
            "[5, 6, 8, 9, 10, 11, 14, 15, 16, 18, 24, 35, 38, 39, 41, 47, 48, 53, 57, 59, 61, 62, 63, 64, 65, 66, 67, 68, 69, 70, 71, 72, 73, 74, 75, 77, 79, 80, 83, 85, 88]\n"
          ],
          "name": "stdout"
        }
      ]
    },
    {
      "cell_type": "markdown",
      "metadata": {
        "id": "KUGfEsFElkA-",
        "colab_type": "text"
      },
      "source": [
        "Start XLNet exploration\n",
        "\n",
        "https://github.com/zihangdai/xlnet/blob/master/notebooks/colab_imdb_gpu.ipynb\n",
        "\n",
        "https://github.com/zihangdai/xlnet\n",
        "\n"
      ]
    },
    {
      "cell_type": "code",
      "metadata": {
        "id": "gqpVVt2MljmN",
        "colab_type": "code",
        "colab": {
          "base_uri": "https://localhost:8080/",
          "height": 101
        },
        "outputId": "15937d9c-b59d-4868-b198-ae0fd3a1fe2c"
      },
      "source": [
        "! pip install sentencepiece"
      ],
      "execution_count": 10,
      "outputs": [
        {
          "output_type": "stream",
          "text": [
            "Collecting sentencepiece\n",
            "\u001b[?25l  Downloading https://files.pythonhosted.org/packages/14/3d/efb655a670b98f62ec32d66954e1109f403db4d937c50d779a75b9763a29/sentencepiece-0.1.83-cp36-cp36m-manylinux1_x86_64.whl (1.0MB)\n",
            "\r\u001b[K     |▎                               | 10kB 12.2MB/s eta 0:00:01\r\u001b[K     |▋                               | 20kB 6.9MB/s eta 0:00:01\r\u001b[K     |█                               | 30kB 9.3MB/s eta 0:00:01\r\u001b[K     |█▎                              | 40kB 5.8MB/s eta 0:00:01\r\u001b[K     |█▋                              | 51kB 6.7MB/s eta 0:00:01\r\u001b[K     |██                              | 61kB 7.8MB/s eta 0:00:01\r\u001b[K     |██▏                             | 71kB 8.9MB/s eta 0:00:01\r\u001b[K     |██▌                             | 81kB 9.8MB/s eta 0:00:01\r\u001b[K     |██▉                             | 92kB 10.7MB/s eta 0:00:01\r\u001b[K     |███▏                            | 102kB 9.2MB/s eta 0:00:01\r\u001b[K     |███▌                            | 112kB 9.2MB/s eta 0:00:01\r\u001b[K     |███▉                            | 122kB 9.2MB/s eta 0:00:01\r\u001b[K     |████                            | 133kB 9.2MB/s eta 0:00:01\r\u001b[K     |████▍                           | 143kB 9.2MB/s eta 0:00:01\r\u001b[K     |████▊                           | 153kB 9.2MB/s eta 0:00:01\r\u001b[K     |█████                           | 163kB 9.2MB/s eta 0:00:01\r\u001b[K     |█████▍                          | 174kB 9.2MB/s eta 0:00:01\r\u001b[K     |█████▊                          | 184kB 9.2MB/s eta 0:00:01\r\u001b[K     |██████                          | 194kB 9.2MB/s eta 0:00:01\r\u001b[K     |██████▎                         | 204kB 9.2MB/s eta 0:00:01\r\u001b[K     |██████▋                         | 215kB 9.2MB/s eta 0:00:01\r\u001b[K     |███████                         | 225kB 9.2MB/s eta 0:00:01\r\u001b[K     |███████▎                        | 235kB 9.2MB/s eta 0:00:01\r\u001b[K     |███████▋                        | 245kB 9.2MB/s eta 0:00:01\r\u001b[K     |███████▉                        | 256kB 9.2MB/s eta 0:00:01\r\u001b[K     |████████▏                       | 266kB 9.2MB/s eta 0:00:01\r\u001b[K     |████████▌                       | 276kB 9.2MB/s eta 0:00:01\r\u001b[K     |████████▉                       | 286kB 9.2MB/s eta 0:00:01\r\u001b[K     |█████████▏                      | 296kB 9.2MB/s eta 0:00:01\r\u001b[K     |█████████▌                      | 307kB 9.2MB/s eta 0:00:01\r\u001b[K     |█████████▊                      | 317kB 9.2MB/s eta 0:00:01\r\u001b[K     |██████████                      | 327kB 9.2MB/s eta 0:00:01\r\u001b[K     |██████████▍                     | 337kB 9.2MB/s eta 0:00:01\r\u001b[K     |██████████▊                     | 348kB 9.2MB/s eta 0:00:01\r\u001b[K     |███████████                     | 358kB 9.2MB/s eta 0:00:01\r\u001b[K     |███████████▍                    | 368kB 9.2MB/s eta 0:00:01\r\u001b[K     |███████████▋                    | 378kB 9.2MB/s eta 0:00:01\r\u001b[K     |████████████                    | 389kB 9.2MB/s eta 0:00:01\r\u001b[K     |████████████▎                   | 399kB 9.2MB/s eta 0:00:01\r\u001b[K     |████████████▋                   | 409kB 9.2MB/s eta 0:00:01\r\u001b[K     |█████████████                   | 419kB 9.2MB/s eta 0:00:01\r\u001b[K     |█████████████▎                  | 430kB 9.2MB/s eta 0:00:01\r\u001b[K     |█████████████▌                  | 440kB 9.2MB/s eta 0:00:01\r\u001b[K     |█████████████▉                  | 450kB 9.2MB/s eta 0:00:01\r\u001b[K     |██████████████▏                 | 460kB 9.2MB/s eta 0:00:01\r\u001b[K     |██████████████▌                 | 471kB 9.2MB/s eta 0:00:01\r\u001b[K     |██████████████▉                 | 481kB 9.2MB/s eta 0:00:01\r\u001b[K     |███████████████▏                | 491kB 9.2MB/s eta 0:00:01\r\u001b[K     |███████████████▍                | 501kB 9.2MB/s eta 0:00:01\r\u001b[K     |███████████████▊                | 512kB 9.2MB/s eta 0:00:01\r\u001b[K     |████████████████                | 522kB 9.2MB/s eta 0:00:01\r\u001b[K     |████████████████▍               | 532kB 9.2MB/s eta 0:00:01\r\u001b[K     |████████████████▊               | 542kB 9.2MB/s eta 0:00:01\r\u001b[K     |█████████████████               | 552kB 9.2MB/s eta 0:00:01\r\u001b[K     |█████████████████▎              | 563kB 9.2MB/s eta 0:00:01\r\u001b[K     |█████████████████▋              | 573kB 9.2MB/s eta 0:00:01\r\u001b[K     |██████████████████              | 583kB 9.2MB/s eta 0:00:01\r\u001b[K     |██████████████████▎             | 593kB 9.2MB/s eta 0:00:01\r\u001b[K     |██████████████████▋             | 604kB 9.2MB/s eta 0:00:01\r\u001b[K     |███████████████████             | 614kB 9.2MB/s eta 0:00:01\r\u001b[K     |███████████████████▏            | 624kB 9.2MB/s eta 0:00:01\r\u001b[K     |███████████████████▌            | 634kB 9.2MB/s eta 0:00:01\r\u001b[K     |███████████████████▉            | 645kB 9.2MB/s eta 0:00:01\r\u001b[K     |████████████████████▏           | 655kB 9.2MB/s eta 0:00:01\r\u001b[K     |████████████████████▌           | 665kB 9.2MB/s eta 0:00:01\r\u001b[K     |████████████████████▉           | 675kB 9.2MB/s eta 0:00:01\r\u001b[K     |█████████████████████▏          | 686kB 9.2MB/s eta 0:00:01\r\u001b[K     |█████████████████████▍          | 696kB 9.2MB/s eta 0:00:01\r\u001b[K     |█████████████████████▊          | 706kB 9.2MB/s eta 0:00:01\r\u001b[K     |██████████████████████          | 716kB 9.2MB/s eta 0:00:01\r\u001b[K     |██████████████████████▍         | 727kB 9.2MB/s eta 0:00:01\r\u001b[K     |██████████████████████▊         | 737kB 9.2MB/s eta 0:00:01\r\u001b[K     |███████████████████████         | 747kB 9.2MB/s eta 0:00:01\r\u001b[K     |███████████████████████▎        | 757kB 9.2MB/s eta 0:00:01\r\u001b[K     |███████████████████████▋        | 768kB 9.2MB/s eta 0:00:01\r\u001b[K     |████████████████████████        | 778kB 9.2MB/s eta 0:00:01\r\u001b[K     |████████████████████████▎       | 788kB 9.2MB/s eta 0:00:01\r\u001b[K     |████████████████████████▋       | 798kB 9.2MB/s eta 0:00:01\r\u001b[K     |█████████████████████████       | 808kB 9.2MB/s eta 0:00:01\r\u001b[K     |█████████████████████████▏      | 819kB 9.2MB/s eta 0:00:01\r\u001b[K     |█████████████████████████▌      | 829kB 9.2MB/s eta 0:00:01\r\u001b[K     |█████████████████████████▉      | 839kB 9.2MB/s eta 0:00:01\r\u001b[K     |██████████████████████████▏     | 849kB 9.2MB/s eta 0:00:01\r\u001b[K     |██████████████████████████▌     | 860kB 9.2MB/s eta 0:00:01\r\u001b[K     |██████████████████████████▉     | 870kB 9.2MB/s eta 0:00:01\r\u001b[K     |███████████████████████████     | 880kB 9.2MB/s eta 0:00:01\r\u001b[K     |███████████████████████████▍    | 890kB 9.2MB/s eta 0:00:01\r\u001b[K     |███████████████████████████▊    | 901kB 9.2MB/s eta 0:00:01\r\u001b[K     |████████████████████████████    | 911kB 9.2MB/s eta 0:00:01\r\u001b[K     |████████████████████████████▍   | 921kB 9.2MB/s eta 0:00:01\r\u001b[K     |████████████████████████████▊   | 931kB 9.2MB/s eta 0:00:01\r\u001b[K     |█████████████████████████████   | 942kB 9.2MB/s eta 0:00:01\r\u001b[K     |█████████████████████████████▎  | 952kB 9.2MB/s eta 0:00:01\r\u001b[K     |█████████████████████████████▋  | 962kB 9.2MB/s eta 0:00:01\r\u001b[K     |██████████████████████████████  | 972kB 9.2MB/s eta 0:00:01\r\u001b[K     |██████████████████████████████▎ | 983kB 9.2MB/s eta 0:00:01\r\u001b[K     |██████████████████████████████▋ | 993kB 9.2MB/s eta 0:00:01\r\u001b[K     |██████████████████████████████▉ | 1.0MB 9.2MB/s eta 0:00:01\r\u001b[K     |███████████████████████████████▏| 1.0MB 9.2MB/s eta 0:00:01\r\u001b[K     |███████████████████████████████▌| 1.0MB 9.2MB/s eta 0:00:01\r\u001b[K     |███████████████████████████████▉| 1.0MB 9.2MB/s eta 0:00:01\r\u001b[K     |████████████████████████████████| 1.0MB 9.2MB/s \n",
            "\u001b[?25hInstalling collected packages: sentencepiece\n",
            "Successfully installed sentencepiece-0.1.83\n"
          ],
          "name": "stdout"
        }
      ]
    },
    {
      "cell_type": "code",
      "metadata": {
        "id": "tigyDADKwk8W",
        "colab_type": "code",
        "colab": {
          "base_uri": "https://localhost:8080/",
          "height": 319
        },
        "outputId": "aa34bf97-a40c-4da8-b1b0-efb2a0a1a993"
      },
      "source": [
        "! wget https://storage.googleapis.com/xlnet/released_models/cased_L-24_H-1024_A-16.zip\n",
        "! unzip cased_L-24_H-1024_A-16.zip"
      ],
      "execution_count": 11,
      "outputs": [
        {
          "output_type": "stream",
          "text": [
            "--2019-11-21 16:18:54--  https://storage.googleapis.com/xlnet/released_models/cased_L-24_H-1024_A-16.zip\n",
            "Resolving storage.googleapis.com (storage.googleapis.com)... 173.194.79.128, 2a00:1450:4013:c00::80\n",
            "Connecting to storage.googleapis.com (storage.googleapis.com)|173.194.79.128|:443... connected.\n",
            "HTTP request sent, awaiting response... 200 OK\n",
            "Length: 1338042341 (1.2G) [application/zip]\n",
            "Saving to: ‘cased_L-24_H-1024_A-16.zip’\n",
            "\n",
            "cased_L-24_H-1024_A 100%[===================>]   1.25G  53.0MB/s    in 22s     \n",
            "\n",
            "2019-11-21 16:19:17 (57.6 MB/s) - ‘cased_L-24_H-1024_A-16.zip’ saved [1338042341/1338042341]\n",
            "\n",
            "Archive:  cased_L-24_H-1024_A-16.zip\n",
            "   creating: xlnet_cased_L-24_H-1024_A-16/\n",
            "  inflating: xlnet_cased_L-24_H-1024_A-16/xlnet_model.ckpt.index  \n",
            "  inflating: xlnet_cased_L-24_H-1024_A-16/xlnet_model.ckpt.data-00000-of-00001  \n",
            "  inflating: xlnet_cased_L-24_H-1024_A-16/spiece.model  \n",
            "  inflating: xlnet_cased_L-24_H-1024_A-16/xlnet_model.ckpt.meta  \n",
            "  inflating: xlnet_cased_L-24_H-1024_A-16/xlnet_config.json  \n"
          ],
          "name": "stdout"
        }
      ]
    }
  ]
}